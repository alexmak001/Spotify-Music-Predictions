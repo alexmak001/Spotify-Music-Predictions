{
 "metadata": {
  "language_info": {
   "codemirror_mode": {
    "name": "ipython",
    "version": 3
   },
   "file_extension": ".py",
   "mimetype": "text/x-python",
   "name": "python",
   "nbconvert_exporter": "python",
   "pygments_lexer": "ipython3",
   "version": "3.8.3-final"
  },
  "orig_nbformat": 2,
  "kernelspec": {
   "name": "Python 3.8.3 64-bit ('base': conda)",
   "display_name": "Python 3.8.3 64-bit ('base': conda)",
   "metadata": {
    "interpreter": {
     "hash": "054c0128ae785496ec715fe55dc407401ac17e534a17f921fadf0b2704e9e719"
    }
   }
  }
 },
 "nbformat": 4,
 "nbformat_minor": 2,
 "cells": [
  {
   "cell_type": "code",
   "execution_count": 15,
   "metadata": {},
   "outputs": [],
   "source": [
    "import spotipy\n",
    "import spotipy.util as util\n",
    "\n",
    "import pandas as pd \n",
    "import numpy as np "
   ]
  },
  {
   "cell_type": "code",
   "execution_count": 16,
   "metadata": {},
   "outputs": [],
   "source": [
    "with open(\"D:/Python Projects/Passwords/Spotify.txt\", \"r+\") as f:\n",
    "    CLIENT_ID = f.readline().strip()\n",
    "    CLIENT_SECRET  = f.readline().strip()"
   ]
  },
  {
   "cell_type": "code",
   "execution_count": 17,
   "metadata": {},
   "outputs": [],
   "source": [
    "token = spotipy.oauth2.SpotifyClientCredentials(client_id=CLIENT_ID, client_secret=CLIENT_SECRET)\n",
    "cache_token = token.get_access_token()\n",
    "sp = spotipy.Spotify(cache_token)"
   ]
  },
  {
   "cell_type": "code",
   "execution_count": 18,
   "metadata": {},
   "outputs": [],
   "source": [
    "def analyze_playlist(creator, playlist_id):\n",
    "    \n",
    "    # Create empty dataframe\n",
    "    playlist_features_list = [\"artist\",\"album\",\"track_name\",  \"track_id\",\"danceability\",\"energy\",\"key\",\"loudness\",\"mode\", \"speechiness\",\"instrumentalness\",\"liveness\",\"valence\",\"tempo\", \"duration_ms\",\"time_signature\"]\n",
    "    \n",
    "    playlist_df = pd.DataFrame(columns = playlist_features_list)\n",
    "    \n",
    "    # Loop through every track in the playlist, extract features and append the features to the playlist df\n",
    "    \n",
    "    playlist = sp.user_playlist_tracks(creator, playlist_id)[\"items\"]\n",
    "    for track in playlist:\n",
    "        # Create empty dict\n",
    "        playlist_features = {}\n",
    "        # Get metadata\n",
    "        playlist_features[\"artist\"] = track[\"track\"][\"album\"][\"artists\"][0][\"name\"]\n",
    "        playlist_features[\"album\"] = track[\"track\"][\"album\"][\"name\"]\n",
    "        playlist_features[\"track_name\"] = track[\"track\"][\"name\"]\n",
    "        playlist_features[\"track_id\"] = track[\"track\"][\"id\"]\n",
    "        \n",
    "        # Get audio features\n",
    "        audio_features = sp.audio_features(playlist_features[\"track_id\"])[0]\n",
    "        for feature in playlist_features_list[4:]:\n",
    "            playlist_features[feature] = audio_features[feature]\n",
    "        \n",
    "        # Concat the dfs\n",
    "        track_df = pd.DataFrame(playlist_features, index = [0])\n",
    "        playlist_df = pd.concat([playlist_df, track_df], ignore_index = True)\n",
    "        \n",
    "    return playlist_df"
   ]
  },
  {
   "cell_type": "code",
   "execution_count": 19,
   "metadata": {},
   "outputs": [
    {
     "output_type": "execute_result",
     "data": {
      "text/plain": [
       "                 artist                                              album  \\\n",
       "0             Bob Dylan                               Highway 61 Revisited   \n",
       "1    The Rolling Stones  The Rolling Stones Singles Collection: The Lon...   \n",
       "2           John Lennon                                            Imagine   \n",
       "3                Prince                                        Purple Rain   \n",
       "4           Marvin Gaye                                          Favorites   \n",
       "..                  ...                                                ...   \n",
       "95      Various Artists                         We Are Marshall Soundtrack   \n",
       "96      Jerry Lee Lewis                                   The Very Best Of   \n",
       "97           Bo Diddley         Bo Diddley Hit Pac (International Version)   \n",
       "98  Buffalo Springfield                                Buffalo Springfield   \n",
       "99        Tracy Chapman                                      Tracy Chapman   \n",
       "\n",
       "                                           track_name                track_id  \\\n",
       "0                                Like a Rolling Stone  3AhXZa8sUQht0UEdBJgpGc   \n",
       "1   (I Can't Get No) Satisfaction - Mono Version /...  57J2znxukXsXzS3XPuZ1TG   \n",
       "2                           Imagine - Remastered 2010  7pKfPomDEeI4TPT6EOYjn9   \n",
       "3                                         Purple Rain  54X78diSLoUDI3joC2bjMz   \n",
       "4                                     What's Going On  42PyxnviKRfOa8z39g8aZj   \n",
       "..                                                ...                     ...   \n",
       "95                                Let's Stay Together  3uJ8zHRASayItvcSRh8TIm   \n",
       "96                       Whole Lotta Shakin' Goin' On  3LUHtV6F7IHAOognkvcEKv   \n",
       "97           Bo Diddley - 1973 Album Version (Stereo)  4HJOspEf9KeLFjE69pUs4K   \n",
       "98                                For What It's Worth  1qRA5BS78u3gME0loMl9AA   \n",
       "99                                           Fast Car  2M9ro2krNb7nr7HSprkEgo   \n",
       "\n",
       "    danceability  energy key  loudness mode  speechiness instrumentalness  \\\n",
       "0          0.483   0.721   0    -6.836    1       0.0320                0   \n",
       "1          0.722   0.882   2    -6.763    1       0.0348           0.0496   \n",
       "2          0.547   0.257   0   -12.358    1       0.0252            0.183   \n",
       "3          0.367   0.452  10   -10.422    1       0.0307          0.00228   \n",
       "4          0.280   0.720   1    -9.668    0       0.1110         1.36e-06   \n",
       "..           ...     ...  ..       ...  ...          ...              ...   \n",
       "95         0.728   0.467   5    -7.394    1       0.0501          2.4e-05   \n",
       "96         0.350   0.573   0   -11.340    1       0.0317         2.03e-05   \n",
       "97         0.769   0.773   0    -8.612    1       0.0609           0.0744   \n",
       "98         0.653   0.519   2   -10.164    1       0.0497           0.0209   \n",
       "99         0.711   0.292   4   -15.523    0       0.0370                0   \n",
       "\n",
       "    liveness  valence    tempo duration_ms time_signature  \n",
       "0     0.1890    0.562   95.261      369600              4  \n",
       "1     0.1190    0.921  136.299      222840              4  \n",
       "2     0.0935    0.169   75.752      187867              4  \n",
       "3     0.6890    0.189  113.066      520787              4  \n",
       "4     0.3940    0.805  202.523      233293              4  \n",
       "..       ...      ...      ...         ...            ...  \n",
       "95    0.0416    0.584  101.536      198533              4  \n",
       "96    0.1710    0.562  163.654      173867              4  \n",
       "97    0.0560    0.865  110.502      174335              4  \n",
       "98    0.1010    0.822   98.883      153693              4  \n",
       "99    0.1310    0.194  103.951      296800              4  \n",
       "\n",
       "[100 rows x 16 columns]"
      ],
      "text/html": "<div>\n<style scoped>\n    .dataframe tbody tr th:only-of-type {\n        vertical-align: middle;\n    }\n\n    .dataframe tbody tr th {\n        vertical-align: top;\n    }\n\n    .dataframe thead th {\n        text-align: right;\n    }\n</style>\n<table border=\"1\" class=\"dataframe\">\n  <thead>\n    <tr style=\"text-align: right;\">\n      <th></th>\n      <th>artist</th>\n      <th>album</th>\n      <th>track_name</th>\n      <th>track_id</th>\n      <th>danceability</th>\n      <th>energy</th>\n      <th>key</th>\n      <th>loudness</th>\n      <th>mode</th>\n      <th>speechiness</th>\n      <th>instrumentalness</th>\n      <th>liveness</th>\n      <th>valence</th>\n      <th>tempo</th>\n      <th>duration_ms</th>\n      <th>time_signature</th>\n    </tr>\n  </thead>\n  <tbody>\n    <tr>\n      <th>0</th>\n      <td>Bob Dylan</td>\n      <td>Highway 61 Revisited</td>\n      <td>Like a Rolling Stone</td>\n      <td>3AhXZa8sUQht0UEdBJgpGc</td>\n      <td>0.483</td>\n      <td>0.721</td>\n      <td>0</td>\n      <td>-6.836</td>\n      <td>1</td>\n      <td>0.0320</td>\n      <td>0</td>\n      <td>0.1890</td>\n      <td>0.562</td>\n      <td>95.261</td>\n      <td>369600</td>\n      <td>4</td>\n    </tr>\n    <tr>\n      <th>1</th>\n      <td>The Rolling Stones</td>\n      <td>The Rolling Stones Singles Collection: The Lon...</td>\n      <td>(I Can't Get No) Satisfaction - Mono Version /...</td>\n      <td>57J2znxukXsXzS3XPuZ1TG</td>\n      <td>0.722</td>\n      <td>0.882</td>\n      <td>2</td>\n      <td>-6.763</td>\n      <td>1</td>\n      <td>0.0348</td>\n      <td>0.0496</td>\n      <td>0.1190</td>\n      <td>0.921</td>\n      <td>136.299</td>\n      <td>222840</td>\n      <td>4</td>\n    </tr>\n    <tr>\n      <th>2</th>\n      <td>John Lennon</td>\n      <td>Imagine</td>\n      <td>Imagine - Remastered 2010</td>\n      <td>7pKfPomDEeI4TPT6EOYjn9</td>\n      <td>0.547</td>\n      <td>0.257</td>\n      <td>0</td>\n      <td>-12.358</td>\n      <td>1</td>\n      <td>0.0252</td>\n      <td>0.183</td>\n      <td>0.0935</td>\n      <td>0.169</td>\n      <td>75.752</td>\n      <td>187867</td>\n      <td>4</td>\n    </tr>\n    <tr>\n      <th>3</th>\n      <td>Prince</td>\n      <td>Purple Rain</td>\n      <td>Purple Rain</td>\n      <td>54X78diSLoUDI3joC2bjMz</td>\n      <td>0.367</td>\n      <td>0.452</td>\n      <td>10</td>\n      <td>-10.422</td>\n      <td>1</td>\n      <td>0.0307</td>\n      <td>0.00228</td>\n      <td>0.6890</td>\n      <td>0.189</td>\n      <td>113.066</td>\n      <td>520787</td>\n      <td>4</td>\n    </tr>\n    <tr>\n      <th>4</th>\n      <td>Marvin Gaye</td>\n      <td>Favorites</td>\n      <td>What's Going On</td>\n      <td>42PyxnviKRfOa8z39g8aZj</td>\n      <td>0.280</td>\n      <td>0.720</td>\n      <td>1</td>\n      <td>-9.668</td>\n      <td>0</td>\n      <td>0.1110</td>\n      <td>1.36e-06</td>\n      <td>0.3940</td>\n      <td>0.805</td>\n      <td>202.523</td>\n      <td>233293</td>\n      <td>4</td>\n    </tr>\n    <tr>\n      <th>...</th>\n      <td>...</td>\n      <td>...</td>\n      <td>...</td>\n      <td>...</td>\n      <td>...</td>\n      <td>...</td>\n      <td>...</td>\n      <td>...</td>\n      <td>...</td>\n      <td>...</td>\n      <td>...</td>\n      <td>...</td>\n      <td>...</td>\n      <td>...</td>\n      <td>...</td>\n      <td>...</td>\n    </tr>\n    <tr>\n      <th>95</th>\n      <td>Various Artists</td>\n      <td>We Are Marshall Soundtrack</td>\n      <td>Let's Stay Together</td>\n      <td>3uJ8zHRASayItvcSRh8TIm</td>\n      <td>0.728</td>\n      <td>0.467</td>\n      <td>5</td>\n      <td>-7.394</td>\n      <td>1</td>\n      <td>0.0501</td>\n      <td>2.4e-05</td>\n      <td>0.0416</td>\n      <td>0.584</td>\n      <td>101.536</td>\n      <td>198533</td>\n      <td>4</td>\n    </tr>\n    <tr>\n      <th>96</th>\n      <td>Jerry Lee Lewis</td>\n      <td>The Very Best Of</td>\n      <td>Whole Lotta Shakin' Goin' On</td>\n      <td>3LUHtV6F7IHAOognkvcEKv</td>\n      <td>0.350</td>\n      <td>0.573</td>\n      <td>0</td>\n      <td>-11.340</td>\n      <td>1</td>\n      <td>0.0317</td>\n      <td>2.03e-05</td>\n      <td>0.1710</td>\n      <td>0.562</td>\n      <td>163.654</td>\n      <td>173867</td>\n      <td>4</td>\n    </tr>\n    <tr>\n      <th>97</th>\n      <td>Bo Diddley</td>\n      <td>Bo Diddley Hit Pac (International Version)</td>\n      <td>Bo Diddley - 1973 Album Version (Stereo)</td>\n      <td>4HJOspEf9KeLFjE69pUs4K</td>\n      <td>0.769</td>\n      <td>0.773</td>\n      <td>0</td>\n      <td>-8.612</td>\n      <td>1</td>\n      <td>0.0609</td>\n      <td>0.0744</td>\n      <td>0.0560</td>\n      <td>0.865</td>\n      <td>110.502</td>\n      <td>174335</td>\n      <td>4</td>\n    </tr>\n    <tr>\n      <th>98</th>\n      <td>Buffalo Springfield</td>\n      <td>Buffalo Springfield</td>\n      <td>For What It's Worth</td>\n      <td>1qRA5BS78u3gME0loMl9AA</td>\n      <td>0.653</td>\n      <td>0.519</td>\n      <td>2</td>\n      <td>-10.164</td>\n      <td>1</td>\n      <td>0.0497</td>\n      <td>0.0209</td>\n      <td>0.1010</td>\n      <td>0.822</td>\n      <td>98.883</td>\n      <td>153693</td>\n      <td>4</td>\n    </tr>\n    <tr>\n      <th>99</th>\n      <td>Tracy Chapman</td>\n      <td>Tracy Chapman</td>\n      <td>Fast Car</td>\n      <td>2M9ro2krNb7nr7HSprkEgo</td>\n      <td>0.711</td>\n      <td>0.292</td>\n      <td>4</td>\n      <td>-15.523</td>\n      <td>0</td>\n      <td>0.0370</td>\n      <td>0</td>\n      <td>0.1310</td>\n      <td>0.194</td>\n      <td>103.951</td>\n      <td>296800</td>\n      <td>4</td>\n    </tr>\n  </tbody>\n</table>\n<p>100 rows × 16 columns</p>\n</div>"
     },
     "metadata": {},
     "execution_count": 19
    }
   ],
   "source": [
    "liked = [\"37i9dQZF1E37g6szoLCRZv\",\"37i9dQZF1E37Hn1TJspC8J\",\"37i9dQZF1E39jYY2AWPFCc\",\"37i9dQZF1E35RdUd10wYkX\",\"37i9dQZF1E37npjKdQxRs2\",\"1T02FeCS5zNw14CWylwVhc\",\"2ggUoaQdarWmVeFmCiYNK6\",\"7xs6knqH5JDiUpSZxlwiZc\",\"3lTMT2ktM07YjQO2lyYihV\",\"1GrroFwIyArKSWmHLBVrv6\"]\n",
    "\n",
    "notLiked = [\"5Rrf7mqN8uus2AaQQQNdc1\",\"41PjAyM2OhMn6gUFZXMM33\",\"37i9dQZF1DX1lVhptIYRda\",\"7CHyKE1Wm9aNt5Tioinrw9\",\"37i9dQZF1DX9qNs32fujYe\",\"4lkORaWRcUEfjvGZUyUVkj\",\"4NDZh9ULqIo3GTvdt68xi3\",\"1h0CEZCm6IbFTbxThn6Xcs\",\"39sVxPTg7BKwrf2MfgrtcD\",\"37i9dQZF1DWXRqgorJj26U\"]\n",
    "\n",
    "\n",
    "hip = analyze_playlist(\"bigbolt1\", \"5Rrf7mqN8uus2AaQQQNdc1\")\n",
    "hip"
   ]
  },
  {
   "cell_type": "code",
   "execution_count": 25,
   "metadata": {},
   "outputs": [],
   "source": [
    "playlist_features_list = [\"artist\",\"album\",\"track_name\",  \"track_id\",\"danceability\",\"energy\",\"key\",\"loudness\",\"mode\", \"speechiness\",\"instrumentalness\",\"liveness\",\"valence\",\"tempo\", \"duration_ms\",\"time_signature\"]\n",
    "    \n",
    "finalDF = pd.DataFrame(columns = playlist_features_list)\n",
    "for playlist in liked:\n",
    "    df = analyze_playlist(\"bigbolt1\", playlist)\n",
    "    df = df.assign(like=True)\n",
    "    finalDF = pd.concat([finalDF, df], ignore_index = True)\n",
    "\n",
    "for playlist in notLiked:\n",
    "    df = analyze_playlist(\"bigbolt1\", playlist)\n",
    "    df = df.assign(like=False)\n",
    "    finalDF = pd.concat([finalDF, df], ignore_index = True)"
   ]
  },
  {
   "cell_type": "code",
   "execution_count": 26,
   "metadata": {},
   "outputs": [
    {
     "output_type": "execute_result",
     "data": {
      "text/plain": [
       "                   artist                             album  \\\n",
       "0              Juice WRLD               Death Race For Love   \n",
       "1             ScHoolboy Q                     Blank Face LP   \n",
       "2         Shoreline Mafia                     Mafia Bidness   \n",
       "3                  Polo G                      Die A Legend   \n",
       "4                   Drake              Dark Lane Demo Tapes   \n",
       "...                   ...                               ...   \n",
       "1219        Talking Heads  Remain in Light (Deluxe Version)   \n",
       "1220               Boston                            Boston   \n",
       "1221        Black Sabbath               Paranoid (Remaster)   \n",
       "1222  The Doobie Brothers                   Toulouse Street   \n",
       "1223   The Rolling Stones       Sticky Fingers (Remastered)   \n",
       "\n",
       "                              track_name                track_id  \\\n",
       "0                                    Big  4rWC4tiO4NCwRHdh6vyu6b   \n",
       "1                              THat Part  2yJ9GVCLMmzBBfQAnfzlwr   \n",
       "2                            Perc Popper  0OPcFAAo9LMO9xvu1L7JGD   \n",
       "3               Pop Out (feat. Lil Tjay)  6uFn47ACjqYkc0jADwEdj1   \n",
       "4                           Toosie Slide  466cKvZn1j45IpxDdYZqdA   \n",
       "...                                  ...                     ...   \n",
       "1219  Once in a Lifetime - 2005 Remaster  38Ngied9rBORlAbLYNCl4k   \n",
       "1220                       Peace of Mind  3sY6z4pGcxpMwx3W026WtU   \n",
       "1221          Iron Man - 2012 - Remaster  3IOQZRcEkplCXg6LofKqE9   \n",
       "1222                 Listen to the Music  7Ar4G7Ci11gpt6sfH9Cgz5   \n",
       "1223              Wild Horses - 2009 Mix  52dm9op3rbfAkc1LGXgipW   \n",
       "\n",
       "      danceability  energy key  loudness mode  speechiness instrumentalness  \\\n",
       "0            0.768   0.641  11    -6.197    0       0.1140                0   \n",
       "1            0.927   0.535   6    -7.590    0       0.0911                0   \n",
       "2            0.936   0.339   1    -9.297    1       0.7510                0   \n",
       "3            0.772   0.639   1    -7.119    1       0.4670                0   \n",
       "4            0.830   0.490   1    -8.820    0       0.2090         3.04e-06   \n",
       "...            ...     ...  ..       ...  ...          ...              ...   \n",
       "1219         0.644   0.919   2    -6.289    1       0.0561            0.134   \n",
       "1220         0.421   0.677   4    -6.183    1       0.0343         9.65e-05   \n",
       "1221         0.336   0.792   9   -10.875    1       0.0840          0.00175   \n",
       "1222         0.645   0.598   1   -13.180    0       0.0335         3.53e-06   \n",
       "1223         0.432   0.389   7    -6.517    1       0.0255           0.0107   \n",
       "\n",
       "      liveness  valence    tempo duration_ms time_signature   like  \n",
       "0       0.0912    0.231  144.963      224063              4   True  \n",
       "1       0.1360    0.336  112.960      313573              4   True  \n",
       "2       0.2110    0.273  105.165      120857              4   True  \n",
       "3       0.0698    0.261  168.112      166560              4   True  \n",
       "4       0.1130    0.845   81.604      247059              4   True  \n",
       "...        ...      ...      ...         ...            ...    ...  \n",
       "1219    0.6220    0.871  117.459      259907              4  False  \n",
       "1220    0.2110    0.683  127.670      303587              4  False  \n",
       "1221    0.0437    0.427  155.587      355304              4  False  \n",
       "1222    0.0721    0.913  105.929      227267              4  False  \n",
       "1223    0.0788    0.158  139.506      341773              4  False  \n",
       "\n",
       "[1224 rows x 17 columns]"
      ],
      "text/html": "<div>\n<style scoped>\n    .dataframe tbody tr th:only-of-type {\n        vertical-align: middle;\n    }\n\n    .dataframe tbody tr th {\n        vertical-align: top;\n    }\n\n    .dataframe thead th {\n        text-align: right;\n    }\n</style>\n<table border=\"1\" class=\"dataframe\">\n  <thead>\n    <tr style=\"text-align: right;\">\n      <th></th>\n      <th>artist</th>\n      <th>album</th>\n      <th>track_name</th>\n      <th>track_id</th>\n      <th>danceability</th>\n      <th>energy</th>\n      <th>key</th>\n      <th>loudness</th>\n      <th>mode</th>\n      <th>speechiness</th>\n      <th>instrumentalness</th>\n      <th>liveness</th>\n      <th>valence</th>\n      <th>tempo</th>\n      <th>duration_ms</th>\n      <th>time_signature</th>\n      <th>like</th>\n    </tr>\n  </thead>\n  <tbody>\n    <tr>\n      <th>0</th>\n      <td>Juice WRLD</td>\n      <td>Death Race For Love</td>\n      <td>Big</td>\n      <td>4rWC4tiO4NCwRHdh6vyu6b</td>\n      <td>0.768</td>\n      <td>0.641</td>\n      <td>11</td>\n      <td>-6.197</td>\n      <td>0</td>\n      <td>0.1140</td>\n      <td>0</td>\n      <td>0.0912</td>\n      <td>0.231</td>\n      <td>144.963</td>\n      <td>224063</td>\n      <td>4</td>\n      <td>True</td>\n    </tr>\n    <tr>\n      <th>1</th>\n      <td>ScHoolboy Q</td>\n      <td>Blank Face LP</td>\n      <td>THat Part</td>\n      <td>2yJ9GVCLMmzBBfQAnfzlwr</td>\n      <td>0.927</td>\n      <td>0.535</td>\n      <td>6</td>\n      <td>-7.590</td>\n      <td>0</td>\n      <td>0.0911</td>\n      <td>0</td>\n      <td>0.1360</td>\n      <td>0.336</td>\n      <td>112.960</td>\n      <td>313573</td>\n      <td>4</td>\n      <td>True</td>\n    </tr>\n    <tr>\n      <th>2</th>\n      <td>Shoreline Mafia</td>\n      <td>Mafia Bidness</td>\n      <td>Perc Popper</td>\n      <td>0OPcFAAo9LMO9xvu1L7JGD</td>\n      <td>0.936</td>\n      <td>0.339</td>\n      <td>1</td>\n      <td>-9.297</td>\n      <td>1</td>\n      <td>0.7510</td>\n      <td>0</td>\n      <td>0.2110</td>\n      <td>0.273</td>\n      <td>105.165</td>\n      <td>120857</td>\n      <td>4</td>\n      <td>True</td>\n    </tr>\n    <tr>\n      <th>3</th>\n      <td>Polo G</td>\n      <td>Die A Legend</td>\n      <td>Pop Out (feat. Lil Tjay)</td>\n      <td>6uFn47ACjqYkc0jADwEdj1</td>\n      <td>0.772</td>\n      <td>0.639</td>\n      <td>1</td>\n      <td>-7.119</td>\n      <td>1</td>\n      <td>0.4670</td>\n      <td>0</td>\n      <td>0.0698</td>\n      <td>0.261</td>\n      <td>168.112</td>\n      <td>166560</td>\n      <td>4</td>\n      <td>True</td>\n    </tr>\n    <tr>\n      <th>4</th>\n      <td>Drake</td>\n      <td>Dark Lane Demo Tapes</td>\n      <td>Toosie Slide</td>\n      <td>466cKvZn1j45IpxDdYZqdA</td>\n      <td>0.830</td>\n      <td>0.490</td>\n      <td>1</td>\n      <td>-8.820</td>\n      <td>0</td>\n      <td>0.2090</td>\n      <td>3.04e-06</td>\n      <td>0.1130</td>\n      <td>0.845</td>\n      <td>81.604</td>\n      <td>247059</td>\n      <td>4</td>\n      <td>True</td>\n    </tr>\n    <tr>\n      <th>...</th>\n      <td>...</td>\n      <td>...</td>\n      <td>...</td>\n      <td>...</td>\n      <td>...</td>\n      <td>...</td>\n      <td>...</td>\n      <td>...</td>\n      <td>...</td>\n      <td>...</td>\n      <td>...</td>\n      <td>...</td>\n      <td>...</td>\n      <td>...</td>\n      <td>...</td>\n      <td>...</td>\n      <td>...</td>\n    </tr>\n    <tr>\n      <th>1219</th>\n      <td>Talking Heads</td>\n      <td>Remain in Light (Deluxe Version)</td>\n      <td>Once in a Lifetime - 2005 Remaster</td>\n      <td>38Ngied9rBORlAbLYNCl4k</td>\n      <td>0.644</td>\n      <td>0.919</td>\n      <td>2</td>\n      <td>-6.289</td>\n      <td>1</td>\n      <td>0.0561</td>\n      <td>0.134</td>\n      <td>0.6220</td>\n      <td>0.871</td>\n      <td>117.459</td>\n      <td>259907</td>\n      <td>4</td>\n      <td>False</td>\n    </tr>\n    <tr>\n      <th>1220</th>\n      <td>Boston</td>\n      <td>Boston</td>\n      <td>Peace of Mind</td>\n      <td>3sY6z4pGcxpMwx3W026WtU</td>\n      <td>0.421</td>\n      <td>0.677</td>\n      <td>4</td>\n      <td>-6.183</td>\n      <td>1</td>\n      <td>0.0343</td>\n      <td>9.65e-05</td>\n      <td>0.2110</td>\n      <td>0.683</td>\n      <td>127.670</td>\n      <td>303587</td>\n      <td>4</td>\n      <td>False</td>\n    </tr>\n    <tr>\n      <th>1221</th>\n      <td>Black Sabbath</td>\n      <td>Paranoid (Remaster)</td>\n      <td>Iron Man - 2012 - Remaster</td>\n      <td>3IOQZRcEkplCXg6LofKqE9</td>\n      <td>0.336</td>\n      <td>0.792</td>\n      <td>9</td>\n      <td>-10.875</td>\n      <td>1</td>\n      <td>0.0840</td>\n      <td>0.00175</td>\n      <td>0.0437</td>\n      <td>0.427</td>\n      <td>155.587</td>\n      <td>355304</td>\n      <td>4</td>\n      <td>False</td>\n    </tr>\n    <tr>\n      <th>1222</th>\n      <td>The Doobie Brothers</td>\n      <td>Toulouse Street</td>\n      <td>Listen to the Music</td>\n      <td>7Ar4G7Ci11gpt6sfH9Cgz5</td>\n      <td>0.645</td>\n      <td>0.598</td>\n      <td>1</td>\n      <td>-13.180</td>\n      <td>0</td>\n      <td>0.0335</td>\n      <td>3.53e-06</td>\n      <td>0.0721</td>\n      <td>0.913</td>\n      <td>105.929</td>\n      <td>227267</td>\n      <td>4</td>\n      <td>False</td>\n    </tr>\n    <tr>\n      <th>1223</th>\n      <td>The Rolling Stones</td>\n      <td>Sticky Fingers (Remastered)</td>\n      <td>Wild Horses - 2009 Mix</td>\n      <td>52dm9op3rbfAkc1LGXgipW</td>\n      <td>0.432</td>\n      <td>0.389</td>\n      <td>7</td>\n      <td>-6.517</td>\n      <td>1</td>\n      <td>0.0255</td>\n      <td>0.0107</td>\n      <td>0.0788</td>\n      <td>0.158</td>\n      <td>139.506</td>\n      <td>341773</td>\n      <td>4</td>\n      <td>False</td>\n    </tr>\n  </tbody>\n</table>\n<p>1224 rows × 17 columns</p>\n</div>"
     },
     "metadata": {},
     "execution_count": 26
    }
   ],
   "source": [
    "finalDF"
   ]
  },
  {
   "cell_type": "code",
   "execution_count": 27,
   "metadata": {},
   "outputs": [],
   "source": [
    "finalDF.to_csv(\"Alexs Music Preference.csv\")"
   ]
  },
  {
   "cell_type": "code",
   "execution_count": 28,
   "metadata": {},
   "outputs": [
    {
     "output_type": "execute_result",
     "data": {
      "text/plain": [
       "False    693\n",
       "True     531\n",
       "Name: like, dtype: int64"
      ]
     },
     "metadata": {},
     "execution_count": 28
    }
   ],
   "source": [
    "finalDF[\"like\"].value_counts()"
   ]
  },
  {
   "cell_type": "code",
   "execution_count": 29,
   "metadata": {},
   "outputs": [],
   "source": [
    "#make a baseline model"
   ]
  },
  {
   "cell_type": "code",
   "execution_count": null,
   "metadata": {},
   "outputs": [],
   "source": []
  }
 ]
}